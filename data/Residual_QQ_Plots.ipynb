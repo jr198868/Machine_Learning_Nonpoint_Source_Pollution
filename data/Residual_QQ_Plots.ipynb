{
 "cells": [
  {
   "cell_type": "code",
   "execution_count": 1,
   "id": "87b49bea-1c5a-4bd3-a4f5-7b7493f1f1ac",
   "metadata": {},
   "outputs": [],
   "source": [
    "import pandas as pd\n",
    "import csv\n",
    "import seaborn as sns\n",
    "import matplotlib.pyplot as plt\n",
    "import statsmodels.api as sm\n",
    "from sklearn.model_selection import train_test_split\n",
    "import os\n",
    "from sklearn.linear_model import RidgeCV\n",
    "from statsmodels.stats.outliers_influence import variance_inflation_factor\n",
    "from sklearn.preprocessing import StandardScaler\n",
    "from matplotlib.backends.backend_pdf import PdfPages\n",
    "import numpy as np\n",
    "from mpl_toolkits.mplot3d import Axes3D\n",
    "import scipy.stats as stats\n",
    "from sklearn.metrics import mean_absolute_error, mean_squared_error\n"
   ]
  },
  {
   "cell_type": "code",
   "execution_count": 2,
   "id": "bfbdda15-32b0-4af7-b868-4831705320e8",
   "metadata": {},
   "outputs": [
    {
     "name": "stdout",
     "output_type": "stream",
     "text": [
      "['Water_sample_runoff_citrus_Ammoniacal_Nitrogen.csv', 'Water_sample_runoff_corn_Ammoniacal_Nitrogen.csv', 'Water_sample_runoff_rice_Ammoniacal_Nitrogen.csv', 'Water_sample_runoff_vegetable_Ammoniacal_Nitrogen.csv']\n"
     ]
    }
   ],
   "source": [
    "# load data\n",
    "\n",
    "#prefex = '/Users/rjing/Desktop/Machine_Learning_Nonpoint_Source_Pollution/data/water_runoff_sample/Total_Phosphorus/'\n",
    "#prefex = '/Users/rjing/Desktop/Machine_Learning_Nonpoint_Source_Pollution/data/water_runoff_sample/Total_Nitrogen/'\n",
    "#prefex = '/Users/rjing/Desktop/Machine_Learning_Nonpoint_Source_Pollution/data/water_runoff_sample/Nitrate_Nitrogen/'\n",
    "#prefex = '/Users/rjing/Desktop/Machine_Learning_Nonpoint_Source_Pollution/data/water_runoff_sample/Dissolved_Phosphorus/'\n",
    "#prefex = '/Users/rjing/Desktop/Machine_Learning_Nonpoint_Source_Pollution/data/water_runoff_sample/Particulate_Phosphorus/'\n",
    "prefex = '/Users/rjing/Desktop/Machine_Learning_Nonpoint_Source_Pollution/data/water_runoff_sample/Ammoniacal_Nitrogen/'\n",
    "#prefex = '/Users/rjing/Desktop/Machine_Learning_Nonpoint_Source_Pollution/data/water_leaching_sample_30cm/'\n",
    "\n",
    "file_list = [f for f in os.listdir(prefex) if f.endswith(\".csv\")]\n",
    "print(file_list)\n",
    "    "
   ]
  },
  {
   "cell_type": "code",
   "execution_count": 3,
   "id": "5bd01211-18fd-4065-aca4-21b758cf66b2",
   "metadata": {},
   "outputs": [
    {
     "name": "stdout",
     "output_type": "stream",
     "text": [
      "Residual & QQ plots saved to: /Users/rjing/Desktop/Machine_Learning_Nonpoint_Source_Pollution/data/water_runoff_sample/Ammoniacal_Nitrogen/Multiple_Linear_Regression_Results/combined_resid_qq_plots_Ammoniacal_Nitrogen.pdf\n",
      "Residual & QQ plots saved to: /Users/rjing/Desktop/Machine_Learning_Nonpoint_Source_Pollution/data/water_runoff_sample/Ammoniacal_Nitrogen/Multiple_Linear_Regression_Results/combined_resid_qq_plots_Ammoniacal_Nitrogen.pdf\n",
      "Residual & QQ plots saved to: /Users/rjing/Desktop/Machine_Learning_Nonpoint_Source_Pollution/data/water_runoff_sample/Ammoniacal_Nitrogen/Multiple_Linear_Regression_Results/combined_resid_qq_plots_Ammoniacal_Nitrogen.pdf\n",
      "Residual & QQ plots saved to: /Users/rjing/Desktop/Machine_Learning_Nonpoint_Source_Pollution/data/water_runoff_sample/Ammoniacal_Nitrogen/Multiple_Linear_Regression_Results/combined_resid_qq_plots_Ammoniacal_Nitrogen.pdf\n",
      "Job done!\n"
     ]
    }
   ],
   "source": [
    "def QQ_Plot_Combined(files, analysistype, prefex):\n",
    "    \"\"\"Generates Residual and QQ plots for multiple regression models and saves them in a single figure.\"\"\"\n",
    "    \n",
    "    dependent_columns = ['NPK', 'PK', 'NK', 'CK', 'OF']\n",
    "    num_files = len(files)\n",
    "    num_vars = len(dependent_columns)\n",
    "\n",
    "    # Create a large figure (2 rows: Residual Plot & QQ Plot, columns = dependent variables)\n",
    "    fig, axes = plt.subplots(nrows=2 * num_files, ncols=num_vars, figsize=(6 * num_vars, 6 * 2 * num_files))\n",
    "\n",
    "    for file_idx, file_name in enumerate(files):\n",
    "        # Load dataset\n",
    "        data = pd.read_csv(prefex + file_name, encoding='latin1')\n",
    "\n",
    "        # Define independent variables (X)\n",
    "        X = data.iloc[:, 6:].drop(data.columns[7], axis=1)  # Drop second column (as per previous code)\n",
    "        X = sm.add_constant(X)\n",
    "\n",
    "        for var_idx, column in enumerate(dependent_columns):\n",
    "            if column not in data:\n",
    "                continue  # Skip if column is missing\n",
    "\n",
    "            y = data[column].dropna()\n",
    "            X_filtered, y_filtered = X.align(y, join=\"inner\", axis=0)\n",
    "\n",
    "            # Fit OLS model\n",
    "            model = sm.OLS(y_filtered, X_filtered).fit()\n",
    "\n",
    "            # Select axes for plotting\n",
    "            resid_ax = axes[2 * file_idx, var_idx] if num_files > 1 else axes[0, var_idx]\n",
    "            qq_ax = axes[2 * file_idx + 1, var_idx] if num_files > 1 else axes[1, var_idx]\n",
    "\n",
    "            # **1️⃣ Residual Plot (Detects heteroscedasticity)**\n",
    "            sns.residplot(x=model.fittedvalues, y=model.resid, lowess=True, ax=resid_ax, color=\"blue\", scatter_kws={'alpha': 0.6, 's': 100, 'edgecolor': 'black'})  # Set border color to black\n",
    "\n",
    "            resid_ax.axhline(y=0, color=\"red\", linestyle=\"--\", linewidth=2)\n",
    "            resid_ax.set_title(f\"Residual Plot ({column} - {file_name.split('.')[0].split('_')[3]})\", fontsize=20)\n",
    "            resid_ax.set_xlabel(\"Fitted Values\", fontsize=16)\n",
    "            resid_ax.set_ylabel(\"Residuals\", fontsize=16)\n",
    "            resid_ax.tick_params(axis='both', labelsize=14)\n",
    "\n",
    "            # **2️⃣ QQ Plot (Normality of residuals)**\n",
    "            res = stats.probplot(model.resid, dist=\"norm\", plot=qq_ax)\n",
    "            # Set marker color to green\n",
    "            qq_ax.get_lines()[0].set_markerfacecolor('green')  # Set color to green\n",
    "            qq_ax.get_lines()[0].set_markeredgecolor('black')\n",
    "            qq_ax.get_lines()[0].set_markersize(12)  # Adjust marker size here (8 is just an example)\n",
    "\n",
    "            qq_ax.set_title(f\"QQ Plot ({column} - {file_name.split('.')[0].split('_')[3]})\", fontsize=20)\n",
    "            qq_ax.set_xlabel(\"Theoretical quantiles\", fontsize=16)\n",
    "            qq_ax.set_ylabel(\"Ordered Values\", fontsize=16)\n",
    "            qq_ax.tick_params(axis='both', labelsize=14)\n",
    "\n",
    "    # Adjust layout\n",
    "    plt.tight_layout()\n",
    "    plt.suptitle(f\"Residual & QQ Plots for {prefex.split('/')[-3]} ({analysistype})\", fontsize=26, y=1.02)\n",
    "\n",
    "    # Save to PDF\n",
    "    pdf_filename = prefex + \"Multiple_Linear_Regression_Results/\" + \"combined_resid_qq_plots\" + \"_\" + analysistype.split(' ')[0] + \"_\" + analysistype.split(' ')[1] +\".pdf\"\n",
    "    with PdfPages(pdf_filename) as pdf:\n",
    "        pdf.savefig(fig, bbox_inches='tight', dpi=400)\n",
    "        plt.close(fig)\n",
    "\n",
    "    print(f\"Residual & QQ plots saved to: {pdf_filename}\")\n",
    "\n",
    "\n",
    "\n",
    "def main():\n",
    "    selected_files = []\n",
    "    # Filter files that match the \"Total_Nitrogen\" condition\n",
    "    for file in file_list:\n",
    "        selected_files.append(file)\n",
    "        # Run regression for all selected files in one call\n",
    "        if selected_files:\n",
    "             QQ_Plot_Combined(selected_files, file.split('.')[0].split('_')[-2] + \" \" + file.split('.')[0].split('_')[-1], prefex)\n",
    "\n",
    "    print(\"Job done!\")\n",
    "\n",
    "\n",
    "if __name__==\"__main__\":\n",
    "    main()"
   ]
  }
 ],
 "metadata": {
  "kernelspec": {
   "display_name": "Python 3 (ipykernel)",
   "language": "python",
   "name": "python3"
  },
  "language_info": {
   "codemirror_mode": {
    "name": "ipython",
    "version": 3
   },
   "file_extension": ".py",
   "mimetype": "text/x-python",
   "name": "python",
   "nbconvert_exporter": "python",
   "pygments_lexer": "ipython3",
   "version": "3.12.7"
  }
 },
 "nbformat": 4,
 "nbformat_minor": 5
}
