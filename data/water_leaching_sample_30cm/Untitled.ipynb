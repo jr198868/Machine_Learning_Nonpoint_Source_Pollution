{
 "cells": [
  {
   "cell_type": "code",
   "execution_count": 2,
   "id": "442ade95-5493-4a2f-aa97-4fc07d304067",
   "metadata": {},
   "outputs": [],
   "source": [
    "import pandas as pd\n",
    "import csv\n",
    "import seaborn as sns\n",
    "import matplotlib.pyplot as plt\n",
    "import statsmodels.api as sm\n",
    "from sklearn.model_selection import train_test_split\n",
    "import os\n",
    "from sklearn.linear_model import RidgeCV\n",
    "from statsmodels.stats.outliers_influence import variance_inflation_factor\n",
    "from sklearn.preprocessing import StandardScaler\n",
    "from matplotlib.backends.backend_pdf import PdfPages\n",
    "import numpy as np"
   ]
  },
  {
   "cell_type": "code",
   "execution_count": 3,
   "id": "7c5d41e7-3741-4bb9-bf27-50bd22048132",
   "metadata": {},
   "outputs": [
    {
     "name": "stdout",
     "output_type": "stream",
     "text": [
      "Index(['Date', 'NPK', 'PK', 'NK', 'CK', 'MT', 'SF', 'CR', 'OF',\n",
      "       'Dew Point Temperature (F)', 'Average Temperature (F)',\n",
      "       'Visibility (mi)', 'Average Wind Speed ​​(knots)',\n",
      "       'Maximum Sustained Wind Speed ​​(knots)', 'Maximum Gust (knots)',\n",
      "       'Maximum Temperature (F)', 'Minimum Temperature (F)',\n",
      "       'Precipitation (in)'],\n",
      "      dtype='object')\n"
     ]
    }
   ],
   "source": [
    "df = pd.read_csv('/Users/rjing/Desktop/data/data/water_leaching_sample_30cm/Water_sample_leaching_rice_Total_Phosphorus_30cm.csv')\n",
    "print(df.columns)\n",
    "\n",
    "dependent_columns = ['NPK', 'PK', 'NK', 'CK', 'OF']\n",
    "X = data[data.columns[8:]]\n"
   ]
  },
  {
   "cell_type": "code",
   "execution_count": null,
   "id": "c8f5d94f-4853-4c2b-93e5-e482cffd49d6",
   "metadata": {},
   "outputs": [],
   "source": []
  }
 ],
 "metadata": {
  "kernelspec": {
   "display_name": "Python 3 (ipykernel)",
   "language": "python",
   "name": "python3"
  },
  "language_info": {
   "codemirror_mode": {
    "name": "ipython",
    "version": 3
   },
   "file_extension": ".py",
   "mimetype": "text/x-python",
   "name": "python",
   "nbconvert_exporter": "python",
   "pygments_lexer": "ipython3",
   "version": "3.12.7"
  }
 },
 "nbformat": 4,
 "nbformat_minor": 5
}
