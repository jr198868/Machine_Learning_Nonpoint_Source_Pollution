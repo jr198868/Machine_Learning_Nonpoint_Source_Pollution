{
 "cells": [
  {
   "cell_type": "code",
   "execution_count": 3,
   "id": "b36a0761-fd6d-414a-9a25-87c45856ad3b",
   "metadata": {},
   "outputs": [],
   "source": [
    "import pandas as pd\n",
    "from sklearn.preprocessing import MinMaxScaler\n",
    "import csv"
   ]
  },
  {
   "cell_type": "code",
   "execution_count": 4,
   "id": "e4835659-0bb0-4c89-89a7-a5a301529b0c",
   "metadata": {},
   "outputs": [
    {
     "name": "stdout",
     "output_type": "stream",
     "text": [
      "Index(['Date', 'Dew Point Temperature (F)', 'Average Temperature (F)',\n",
      "       'Visibility (mi)', 'Average Wind Speed (knots)',\n",
      "       'Maximum Sustained Wind Speed (knots)', 'Maximum Gust (knots)',\n",
      "       'Maximum Temperature (F)', 'Minimum Temperature (F)',\n",
      "       'Precipitation (in)'],\n",
      "      dtype='object')\n"
     ]
    }
   ],
   "source": [
    "data = '/Users/rjing/Desktop/Machine_Learning_Nonpoint_Source_Pollution/data/weather_data/2019_2023_weather_data_F.csv'\n",
    "df = pd.read_csv(data)\n",
    "print(df.columns)"
   ]
  },
  {
   "cell_type": "code",
   "execution_count": 5,
   "id": "20fdde1b-47d4-425b-ae4b-b235d87961b7",
   "metadata": {},
   "outputs": [],
   "source": [
    "# Load the data\n",
    "data = '/Users/rjing/Desktop/Machine_Learning_Nonpoint_Source_Pollution/data/weather_data/2019_2023_weather_data_F.csv'\n",
    "df = pd.read_csv(data)\n",
    "\n",
    "# Select only numeric columns\n",
    "numeric_cols = df.select_dtypes(include=['number']).columns\n",
    "\n",
    "# Apply Min-Max Scaling\n",
    "scaler = MinMaxScaler()\n",
    "df[numeric_cols] = scaler.fit_transform(df[numeric_cols])\n",
    "\n",
    "# Save the normalized data (optional)\n",
    "df.to_excel('weather_data_normalized.xlsx', index=False)"
   ]
  },
  {
   "cell_type": "code",
   "execution_count": null,
   "id": "28b3e245-ef70-44fa-b32a-6477ed790bd2",
   "metadata": {},
   "outputs": [],
   "source": []
  }
 ],
 "metadata": {
  "kernelspec": {
   "display_name": "Python 3 (ipykernel)",
   "language": "python",
   "name": "python3"
  },
  "language_info": {
   "codemirror_mode": {
    "name": "ipython",
    "version": 3
   },
   "file_extension": ".py",
   "mimetype": "text/x-python",
   "name": "python",
   "nbconvert_exporter": "python",
   "pygments_lexer": "ipython3",
   "version": "3.12.7"
  }
 },
 "nbformat": 4,
 "nbformat_minor": 5
}
