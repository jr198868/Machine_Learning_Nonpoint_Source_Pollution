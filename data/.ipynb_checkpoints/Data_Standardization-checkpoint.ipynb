{
 "cells": [
  {
   "cell_type": "code",
   "execution_count": 1,
   "id": "c6847182-51b1-43e8-b520-2342a94c830a",
   "metadata": {},
   "outputs": [],
   "source": [
    "import pandas as pd\n",
    "import csv"
   ]
  },
  {
   "cell_type": "code",
   "execution_count": 4,
   "id": "2929aa1a-0cb7-4b5e-a91a-e8a1536e190c",
   "metadata": {},
   "outputs": [
    {
     "name": "stdout",
     "output_type": "stream",
     "text": [
      "Index(['Date', 'Dew Point Temperature (F)', 'Average Temperature (F)',\n",
      "       'Visibility (mi)', 'Average Wind Speed (knots)',\n",
      "       'Maximum Sustained Wind Speed (knots)', 'Maximum Gust (knots)',\n",
      "       'Maximum Temperature (F)', 'Minimum Temperature (F)',\n",
      "       'Precipitation (in)'],\n",
      "      dtype='object')\n"
     ]
    }
   ],
   "source": [
    "data = '/Users/rjing/Desktop/Machine_Learning_Nonpoint_Source_Pollution/data/weather_data/2019_2023_weather_data_F.csv'\n",
    "df = pd.read_csv(data)\n",
    "print(df.columns)"
   ]
  },
  {
   "cell_type": "code",
   "execution_count": 6,
   "id": "3a954b7a-5b06-4b6a-a072-063d26260b78",
   "metadata": {},
   "outputs": [
    {
     "name": "stdout",
     "output_type": "stream",
     "text": [
      "Standardized data saved to weather_data_standardized.xlsx\n",
      "     Date  Dew Point Temperature (F)  Average Temperature (F)  \\\n",
      "0  1/1/19                  -1.905383                -2.432274   \n",
      "1  1/2/19                  -1.647326                -2.496006   \n",
      "2  1/3/19                  -1.366499                -1.713004   \n",
      "3  1/4/19                  -0.736535                -1.521805   \n",
      "4  1/5/19                  -0.987002                -1.676585   \n",
      "\n",
      "   Visibility (mi)  Average Wind Speed (knots)  \\\n",
      "0        -0.096544                    1.347022   \n",
      "1        -0.325116                    0.835525   \n",
      "2        -0.210830                   -0.384201   \n",
      "3        -3.296549                   -1.249812   \n",
      "4        -1.696546                    0.599449   \n",
      "\n",
      "   Maximum Sustained Wind Speed (knots)  Maximum Gust (knots)  \\\n",
      "0                              0.599738             -0.908997   \n",
      "1                              0.132054              1.098599   \n",
      "2                             -0.360245              1.098599   \n",
      "3                             -0.827929              1.098599   \n",
      "4                              0.132054              1.098599   \n",
      "\n",
      "   Maximum Temperature (F)  Minimum Temperature (F)  Precipitation (in)  \n",
      "0                -2.888809                -1.910168           -0.140322  \n",
      "1                -2.943307                -1.831618           -0.140322  \n",
      "2                -2.107675                -1.613425           -0.139493  \n",
      "3                -1.980513                -1.046122           -0.138664  \n",
      "4                -2.044094                -1.203221           -0.140322  \n"
     ]
    }
   ],
   "source": [
    "import pandas as pd\n",
    "from sklearn.preprocessing import StandardScaler\n",
    "\n",
    "# Load data\n",
    "data = '/Users/rjing/Desktop/Machine_Learning_Nonpoint_Source_Pollution/data/weather_data/2019_2023_weather_data_F.csv'\n",
    "df = pd.read_csv(data)\n",
    "\n",
    "# Exclude Date column\n",
    "columns_to_scale = df.columns[1:]\n",
    "\n",
    "# Standardization (Z-score)\n",
    "standard_scaler = StandardScaler()\n",
    "df_standardized = df.copy()\n",
    "df_standardized[columns_to_scale] = standard_scaler.fit_transform(df[columns_to_scale])\n",
    "\n",
    "# Save as Excel file\n",
    "output_file = \"weather_data_standardized.xlsx\"\n",
    "df_standardized.to_excel(output_file, index=False)\n",
    "\n",
    "# Print first few rows to check\n",
    "print(f\"Standardized data saved to {output_file}\")\n",
    "print(df_standardized.head())\n"
   ]
  },
  {
   "cell_type": "code",
   "execution_count": null,
   "id": "9cd5d165-281b-42de-b824-f9adf66cf011",
   "metadata": {},
   "outputs": [],
   "source": []
  }
 ],
 "metadata": {
  "kernelspec": {
   "display_name": "Python 3 (ipykernel)",
   "language": "python",
   "name": "python3"
  },
  "language_info": {
   "codemirror_mode": {
    "name": "ipython",
    "version": 3
   },
   "file_extension": ".py",
   "mimetype": "text/x-python",
   "name": "python",
   "nbconvert_exporter": "python",
   "pygments_lexer": "ipython3",
   "version": "3.12.7"
  }
 },
 "nbformat": 4,
 "nbformat_minor": 5
}
