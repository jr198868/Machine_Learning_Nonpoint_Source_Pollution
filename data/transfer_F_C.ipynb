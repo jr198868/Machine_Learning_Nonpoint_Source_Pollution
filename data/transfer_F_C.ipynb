{
 "cells": [
  {
   "cell_type": "code",
   "execution_count": 8,
   "id": "a70f87cf-243b-4d5d-9eab-22a71cd63d79",
   "metadata": {},
   "outputs": [],
   "source": [
    "import csv\n",
    "import os\n",
    "import pandas as pd"
   ]
  },
  {
   "cell_type": "code",
   "execution_count": 9,
   "id": "e112d6f5-3261-4852-8720-2aa6fbd0f194",
   "metadata": {},
   "outputs": [
    {
     "name": "stdout",
     "output_type": "stream",
     "text": [
      "Index(['Date', 'Dew Point Temperature (F)', 'Average Temperature (F)',\n",
      "       'Visibility (mi)', 'Average Wind Speed (knots)',\n",
      "       'Maximum Sustained Wind Speed (knots)', 'Maximum Gust (knots)',\n",
      "       'Maximum Temperature (F)', 'Minimum Temperature (F)',\n",
      "       'Precipitation (in)'],\n",
      "      dtype='object')\n"
     ]
    }
   ],
   "source": [
    "data = '/Users/ranjing/Desktop/mianyuan/data/weather_data/2019_2023_weather_data_F.csv'\n",
    "df_data = pd.read_csv(data)\n",
    "print(df_data.columns)"
   ]
  },
  {
   "cell_type": "code",
   "execution_count": 10,
   "id": "92092c2c-96d7-43f4-94a9-483b0ad5ec3e",
   "metadata": {},
   "outputs": [
    {
     "name": "stdout",
     "output_type": "stream",
     "text": [
      "Converted data saved to /Users/ranjing/Desktop/mianyuan/data/weather_data/2019_2023_weather_data_C.csv\n"
     ]
    }
   ],
   "source": [
    "\n",
    "# Identify columns that contain temperature values in Fahrenheit\n",
    "temp_columns = [\n",
    "    'Dew Point Temperature (F)', \n",
    "    'Average Temperature (F)', \n",
    "    'Maximum Temperature (F)', \n",
    "    'Minimum Temperature (F)'\n",
    "]\n",
    "\n",
    "# Convert Fahrenheit to Celsius\n",
    "for col in temp_columns:\n",
    "    df_data[col] = (df_data[col] - 32) * 5 / 9\n",
    "    df_data.rename(columns={col: col.replace(\"(F)\", \"(C)\")}, inplace=True)  # Rename columns\n",
    "\n",
    "# Save the converted data to a new CSV file\n",
    "output_file = '/Users/ranjing/Desktop/mianyuan/data/weather_data/2019_2023_weather_data_C.csv'\n",
    "df_data.to_csv(output_file, index=False)\n",
    "\n",
    "print(f\"Converted data saved to {output_file}\")\n"
   ]
  },
  {
   "cell_type": "code",
   "execution_count": null,
   "id": "1afeb962-914d-47d6-9c82-bffc7bd362c6",
   "metadata": {},
   "outputs": [],
   "source": []
  }
 ],
 "metadata": {
  "kernelspec": {
   "display_name": "Python 3 (ipykernel)",
   "language": "python",
   "name": "python3"
  },
  "language_info": {
   "codemirror_mode": {
    "name": "ipython",
    "version": 3
   },
   "file_extension": ".py",
   "mimetype": "text/x-python",
   "name": "python",
   "nbconvert_exporter": "python",
   "pygments_lexer": "ipython3",
   "version": "3.12.7"
  }
 },
 "nbformat": 4,
 "nbformat_minor": 5
}
