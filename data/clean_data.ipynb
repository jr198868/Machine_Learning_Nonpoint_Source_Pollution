{
 "cells": [
  {
   "cell_type": "code",
   "execution_count": 13,
   "id": "bf6250c3-47fb-45d2-b936-f8ff17dee4d9",
   "metadata": {},
   "outputs": [],
   "source": [
    "import csv\n",
    "import os\n",
    "import pandas as pd\n",
    "\n"
   ]
  },
  {
   "cell_type": "code",
   "execution_count": 14,
   "id": "bde28e09-440e-4a9d-a3a0-4988e9c64b36",
   "metadata": {},
   "outputs": [
    {
     "name": "stdout",
     "output_type": "stream",
     "text": [
      "['Water_sample_runoff_citrus_Total_Nitrogen.xlsx', 'Water_sample_runoff_corn_Total_Nitrogen.xlsx', 'Water_sample_runoff_rice_Total_Nitrogen.xlsx', 'Water_sample_runoff_vegetable_Total_Nitrogen.xlsx']\n"
     ]
    }
   ],
   "source": [
    "\n",
    "#data_file_prefex = '/Users/rjing/Desktop/Machine_Learning_Nonpoint_Source_Pollution/data/water_runoff_sample/Total_Phosphorus/'\n",
    "data_file_prefex = '/Users/rjing/Desktop/Machine_Learning_Nonpoint_Source_Pollution/data/water_runoff_sample/Total_Nitrogen/'\n",
    "#data_file_prefex = '/Users/rjing/Desktop/Machine_Learning_Nonpoint_Source_Pollution/data/water_runoff_sample/Nitrate_Nitrogen/'\n",
    "#data_file_prefex = '/Users/rjing/Desktop/Machine_Learning_Nonpoint_Source_Pollution/data/water_runoff_sample/Dissolved_Phosphorus/'\n",
    "#data_file_prefex = '/Users/rjing/Desktop/Machine_Learning_Nonpoint_Source_Pollution/data/water_runoff_sample/Particulate_Phosphorus/'\n",
    "#data_file_prefex = '/Users/rjing/Desktop/Machine_Learning_Nonpoint_Source_Pollution/data/water_runoff_sample/Ammoniacal_Nitrogen/'\n",
    "\n",
    "#data_file_prefex = '/Users/rjing/Desktop/Machine_Learning_Nonpoint_Source_Pollution/data/water_sample_leaching_30cm/'\n",
    "#data_file_prefex = '/Users/rjing/Desktop/Machine_Learning_Nonpoint_Source_Pollution/data/water_sample_leaching_60cm/'\n",
    "\n",
    "# Get all Excel files in the folder\n",
    "file_list = [f for f in os.listdir(data_file_prefex) if f.endswith(\".xlsx\")]\n",
    "print(file_list)"
   ]
  },
  {
   "cell_type": "code",
   "execution_count": 15,
   "id": "4e9082a2-6818-4a4e-a529-a24e35a6b649",
   "metadata": {},
   "outputs": [
    {
     "name": "stdout",
     "output_type": "stream",
     "text": [
      "Water_sample_runoff_citrus_Total_Nitrogen.xlsx\n",
      "Water_sample_runoff_corn_Total_Nitrogen.xlsx\n",
      "Water_sample_runoff_rice_Total_Nitrogen.xlsx\n",
      "Water_sample_runoff_vegetable_Total_Nitrogen.xlsx\n"
     ]
    }
   ],
   "source": [
    "\n",
    "\n",
    "def match_data(data_file):\n",
    "    #weather_data = '/Users/rjing/Desktop/Machine_Learning_Nonpoint_Source_Pollution/data/weather_data/2019_2023_weather_data_F.xlsx'\n",
    "    #weather_data = '/Users/rjing/Desktop/Machine_Learning_Nonpoint_Source_Pollution/weather_data/data/weather_data_standardized.xlsx'\n",
    "    weather_data = '/Users/rjing/Desktop/Machine_Learning_Nonpoint_Source_Pollution/data/weather_data/weather_data_normalized.xlsx'\n",
    "    \n",
    "    df_weather_data = pd.read_excel(weather_data, engine=\"openpyxl\")\n",
    "\n",
    "    df_data_file = pd.read_excel(data_file_prefex + data_file, engine=\"openpyxl\")\n",
    "\n",
    "   \n",
    "    # Convert 'date' columns to datetime format with a specified format (force conversion)\n",
    "    df_weather_data['Date'] = pd.to_datetime(df_weather_data['Date'], errors='coerce')\n",
    "    df_data_file['Date'] = pd.to_datetime(df_data_file['Date'], errors='coerce')\n",
    "\n",
    "    # Drop rows where 'date' conversion failed (optional)\n",
    "    df_weather_data = df_weather_data.dropna(subset=['Date'])\n",
    "    df_data_file = df_data_file.dropna(subset=['Date'])\n",
    "\n",
    "    # Perform a left join on 'date'\n",
    "    merged_df = df_data_file.merge(df_weather_data, on=\"Date\", how=\"left\")\n",
    "\n",
    "    # Save the merged DataFrame to a new CSV file\n",
    "    merged_df.to_csv(data_file_prefex + 'normalized_data/' + data_file.split('.')[0] + \".csv\", index=False)\n",
    "\n",
    "for i in file_list:\n",
    "    print(i)\n",
    "    match_data(i)\n"
   ]
  },
  {
   "cell_type": "code",
   "execution_count": null,
   "id": "2f72729b-05ea-40ed-bd77-04d25eeec410",
   "metadata": {},
   "outputs": [],
   "source": []
  }
 ],
 "metadata": {
  "kernelspec": {
   "display_name": "Python 3 (ipykernel)",
   "language": "python",
   "name": "python3"
  },
  "language_info": {
   "codemirror_mode": {
    "name": "ipython",
    "version": 3
   },
   "file_extension": ".py",
   "mimetype": "text/x-python",
   "name": "python",
   "nbconvert_exporter": "python",
   "pygments_lexer": "ipython3",
   "version": "3.12.7"
  }
 },
 "nbformat": 4,
 "nbformat_minor": 5
}
